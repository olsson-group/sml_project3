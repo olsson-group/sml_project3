{
 "cells": [
  {
   "cell_type": "code",
   "execution_count": null,
   "id": "a902a3ec-467e-45eb-9ee4-a5287b14a1b9",
   "metadata": {},
   "outputs": [],
   "source": []
  },
  {
   "cell_type": "code",
   "execution_count": null,
   "id": "b4f4308d-5d0a-45aa-baba-13e7c57c0287",
   "metadata": {},
   "outputs": [],
   "source": [
    "import nglview\n",
    "import mdtraj\n",
    "import numpy as np\n",
    "path = '/tmp/traj.pdb'\n",
    "traj = mdtraj.load(path)\n",
    "traj.xyz # traj.superpose(traj[0][0])\n",
    "# traj.superpose(traj, frame=0, atom_indices=[6,10,13,14,15], ref_atom_indices=[6,10,13,14,15], parallel=True)\n",
    "\n",
    "view = nglview.show_mdtraj(traj)\n",
    "view.clear_representations()\n",
    "view.add_representation('hyperball')\n",
    "\n",
    "for idx in range(traj.xyz.shape[1]):\n",
    "   view.add_label(str(idx), labelType='atomindex', zOffset=1, fontSize=50,showBackground=False, color='black', position=[traj.xyz[0, idx, 0], traj.xyz[0, idx, 1], traj.xyz[0, idx, 2]])\n",
    "\n",
    "view"
   ]
  },
  {
   "cell_type": "code",
   "execution_count": 86,
   "id": "4f8978de-a3b4-4e48-b903-6446d158ead5",
   "metadata": {},
   "outputs": [
    {
     "data": {
      "text/plain": [
       "-8.278423e-10"
      ]
     },
     "execution_count": 86,
     "metadata": {},
     "output_type": "execute_result"
    }
   ],
   "source": [
    "traj.xyz.mean()"
   ]
  },
  {
   "cell_type": "code",
   "execution_count": 14,
   "id": "243059dd-007f-4ae2-acdf-fda51196022d",
   "metadata": {},
   "outputs": [
    {
     "data": {
      "text/plain": [
       "0.7463786195492509"
      ]
     },
     "execution_count": 14,
     "metadata": {},
     "output_type": "execute_result"
    }
   ],
   "source": [
    "(((traj.xyz[0][0]-traj.xyz[0][20])**2).sum())**.5"
   ]
  },
  {
   "cell_type": "code",
   "execution_count": 16,
   "id": "c4df51a0-b95f-442d-9cd1-273a66b16975",
   "metadata": {},
   "outputs": [],
   "source": [
    "view.download_image('/tmp/img.png')"
   ]
  },
  {
   "cell_type": "code",
   "execution_count": null,
   "id": "eea12f88-a211-43c3-80bc-461b84d19351",
   "metadata": {},
   "outputs": [],
   "source": []
  }
 ],
 "metadata": {
  "kernelspec": {
   "display_name": "Python 3 (ipykernel)",
   "language": "python",
   "name": "python3"
  },
  "language_info": {
   "codemirror_mode": {
    "name": "ipython",
    "version": 3
   },
   "file_extension": ".py",
   "mimetype": "text/x-python",
   "name": "python",
   "nbconvert_exporter": "python",
   "pygments_lexer": "ipython3",
   "version": "3.10.13"
  }
 },
 "nbformat": 4,
 "nbformat_minor": 5
}
