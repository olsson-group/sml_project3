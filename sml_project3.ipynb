{
 "cells": [
  {
   "cell_type": "code",
   "execution_count": null,
   "id": "64448466-5928-43c2-b827-51aee8bcf618",
   "metadata": {
    "scrolled": true
   },
   "outputs": [],
   "source": [
    "# IMPORTS\n",
    "\n",
    "from datetime import datetime\n",
    "\n",
    "import torch\n",
    "import warnings\n",
    "import torch_geometric as geom\n",
    "\n",
    "from sml_project3 import data\n",
    "from sml_project3 import mlops\n",
    "from sml_project3 import utils\n",
    "from sml_project3 import model\n",
    "from sml_project3 import painn\n",
    "from sml_project3 import energy\n",
    "from sml_project3 import torsion\n",
    "import mdtraj\n",
    "import nglview"
   ]
  },
  {
   "cell_type": "code",
   "execution_count": null,
   "id": "6f2a9971-2b86-4da2-b307-1eac6f584b53",
   "metadata": {
    "scrolled": true
   },
   "outputs": [],
   "source": [
    "# MODEL: Basedistribution\n",
    "\n",
    "class BaseDistribution:\n",
    "    def __init__(self, ...):\n",
    "        # TODO: Implement the base distribution for your model. \n",
    "        # HINT: The std of the coordinates is 0.1277\n",
    "        ...\n",
    "    \n",
    "    def sample(self, ...):\n",
    "        # TODO: Implement a sampling function for the basebasedistribtion for your model.\n",
    "        \n",
    "        # HINT: This function must return a tensor of dimension [n_atoms, 3]\n",
    "        ..."
   ]
  },
  {
   "cell_type": "code",
   "execution_count": null,
   "id": "97c318a5-2ab2-4c3b-96a8-e258200c0fe1",
   "metadata": {},
   "outputs": [],
   "source": [
    "# MODEL: BASELINE MODEL\n",
    "\n",
    "class BaselineModel:\n",
    "    def __init__(self, ...):\n",
    "        # TODO: Implement a baseline model for your experiments\n",
    "        ...\n",
    "\n",
    "    def forward(self, batch):\n",
    "        # TODO: Implement the forward pass of the baseline model.\n",
    "        # HINT: This function must return a tensor of dimension [n_atoms, 3]\n",
    "        ...\n"
   ]
  },
  {
   "cell_type": "code",
   "execution_count": null,
   "id": "f822b571-cc55-427c-955a-84e7743b7d7d",
   "metadata": {
    "scrolled": true
   },
   "outputs": [],
   "source": [
    "# MODEL: Equivariant readout \n",
    "\n",
    "class EquivariantReadout(torch.nn.Module):\n",
    "    def __init__(self, ...):\n",
    "        super().__init__()\n",
    "        # TODO: Implement the equivariant readout function for a the painn model \n",
    "        ...\n",
    "\n",
    "    \n",
    "    def forward(self, batch):\n",
    "        # TODO: Implement the readout function for the painn model which embeds all nodes\n",
    "        # with invariant and equivariant features\n",
    "    \n",
    "        # HINT: The input batch will have in and equivariant on it with shapes\n",
    "        # batch.equivariant_features.shape == (n_atoms, n_features, 3)\n",
    "        # batch.invariant_features.shape == (n_atoms, n_features) \n",
    "\n",
    "        # HINT: This function should return a tensor of shape [n_atoms, 3]\n",
    "        ... "
   ]
  },
  {
   "cell_type": "code",
   "execution_count": null,
   "id": "591dea2c-2bde-43be-b61c-e40d6dfdfbdc",
   "metadata": {},
   "outputs": [],
   "source": [
    "# SETUP: set up the training script\n",
    "\n",
    "readout = Readout(...)\n",
    "basedistribution = BaseDistribution(...)\n",
    "score = painn.Painn(n_features=8, readout=readout)\n",
    "cfm = model.CFM(score, basedistribution)\n",
    "\n",
    "dataset = data.Pentene1Dataset(\"data\")\n",
    "dataloader = geom.data.DataLoader(dataset, batch_size=100, shuffle=True)\n"
   ]
  },
  {
   "cell_type": "code",
   "execution_count": null,
   "id": "6e0b4280-e6da-4774-95a9-69a592c1679b",
   "metadata": {},
   "outputs": [],
   "source": [
    "# Training\n",
    "\n",
    "# TODO: Train your Baseline model and compare it against your Painn model\n",
    "# HINT: you can resume the training of some model using\n",
    "# cfm = mlops.load(\"results/model/model_latest.pkl\")\n",
    "\n",
    "\n",
    "timer = utils.Timer()\n",
    "step = 0\n",
    "\n",
    "for epoch in range(1000):\n",
    "    for batch in dataloader:\n",
    "        t = torch.rand(len(batch)).type_as(batch.pos)\n",
    "        loss = cfm.get_loss(t, batch)\n",
    "        cfm.training_step(loss)\n",
    "        step += 1\n",
    "        print(\n",
    "            f\"epoch: {epoch}, step: {step}, time passed: {timer}, loss: {loss.item():.4f}\",\n",
    "            end=\"\\r\",\n",
    "        )\n",
    "\n",
    "        if (step + 1) % 1000 == 0:\n",
    "            # HINT: In order to sample the model will need an example batch from the dataset.\n",
    "            # The features such as atom numbers, atom_idxs and edge_index are used for the \n",
    "            # model to generate a new sample. To get an example batch with 10 conformations \n",
    "            # run\n",
    "            # example_batch = utils.get_example_batch(dataset, 10) \n",
    "\n",
    "            # Now we can sample from the model\n",
    "            samples = cfm.sample(example_batch)\n",
    "\n",
    "            # HINT mlops.save(object, path) will save the pickled object at path, and likewise\n",
    "            # object = mlops.load(path) will load back the pickled object. Use this if you want\n",
    "            # to save your model and samples during training\n",
    "\n",
    "            mlops.save(cfm, f\"results/model/model_{step}.pkl\")\n",
    "            mlops.save(cfm, f\"results/model/model_latest.pkl\")\n",
    "            mlops.save(samples, f\"results/samples/samples_{step}.pkl\")\n",
    "\n",
    "# HINT using my implementation of the equivariant Readout and a painn model with 8 hidden features \n",
    "# I was able to get a loss of 0.037 in 10.000 steps within 20 minutes running locally on my laptop. "
   ]
  },
  {
   "cell_type": "code",
   "execution_count": null,
   "id": "fcfe1761-f14b-46ac-8cda-b0b638544c20",
   "metadata": {},
   "outputs": [],
   "source": [
    "# SAMPLING:\n",
    "# TODO: Make samples from your model: \n",
    "\n",
    "model = mlops.load(\"results/model/model_latest.pkl\")\n",
    "example_batch = utils.get_example_batch(dataset, 5000)\n",
    "samples = cfm.sample(example_batch)"
   ]
  },
  {
   "cell_type": "code",
   "execution_count": null,
   "id": "898aed34-4370-421d-9709-77735ca426ee",
   "metadata": {
    "scrolled": true
   },
   "outputs": [],
   "source": [
    "# HINT Just for a point of reference, I included 1000 samples from a 32 features PaiNN model that \n",
    "# I trained for one hour. You can visualize numpy trajectories by running utils.nglview_pentene(samples) \n",
    "# as the last command in a cell - samples must have shape (n_samples, 15, 3)\n",
    "\n",
    "from sml_project3 import mlops\n",
    "from sml_project3 import utils\n",
    "\n",
    "samples = mlops.load('reference/solution_samples.pkl')\n",
    "\n",
    "utils.nglview_pentene(samples)"
   ]
  },
  {
   "cell_type": "code",
   "execution_count": null,
   "id": "365fabd6-da3b-4ee2-bec4-7d38af425655",
   "metadata": {},
   "outputs": [],
   "source": [
    "energy_evaluator = energy.EnergyEvaluator()\n",
    "torsion_evaluator = torsion.TorsionEvaluator()"
   ]
  },
  {
   "cell_type": "code",
   "execution_count": null,
   "id": "cf1085d5-cd5e-45bb-a2ed-741b9f8c69c3",
   "metadata": {
    "scrolled": true
   },
   "outputs": [],
   "source": [
    "# ANALYSE your data and compare it against the md data from the dataset\n",
    "# HINT: the energy evaluator will crash your session if you feed it a torch.Tensor, the samples must be  \n",
    "# must be a numpy array. \n",
    "md_data = dataset.data[:5000].numpy() \n",
    "\n",
    "md_energies = energy_evaluator.evaluate(md_data)\n",
    "md_torsions = energy_evaluator.evaluate(md_data)"
   ]
  }
 ],
 "metadata": {
  "kernelspec": {
   "display_name": "Python 3 (ipykernel)",
   "language": "python",
   "name": "python3"
  },
  "language_info": {
   "codemirror_mode": {
    "name": "ipython",
    "version": 3
   },
   "file_extension": ".py",
   "mimetype": "text/x-python",
   "name": "python",
   "nbconvert_exporter": "python",
   "pygments_lexer": "ipython3",
   "version": "3.10.15"
  }
 },
 "nbformat": 4,
 "nbformat_minor": 5
}
