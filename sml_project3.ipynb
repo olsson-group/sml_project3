{
 "cells": [
  {
   "cell_type": "code",
   "execution_count": 1,
   "id": "64448466-5928-43c2-b827-51aee8bcf618",
   "metadata": {},
   "outputs": [
    {
     "data": {
      "application/vnd.jupyter.widget-view+json": {
       "model_id": "b79422acbf4c423aa7f037ef42effd47",
       "version_major": 2,
       "version_minor": 0
      },
      "text/plain": []
     },
     "metadata": {},
     "output_type": "display_data"
    }
   ],
   "source": [
    "# IMPORTS\n",
    "\n",
    "from datetime import datetime\n",
    "\n",
    "import torch\n",
    "import warnings\n",
    "import torch_geometric as geom\n",
    "\n",
    "from sml_project3 import data\n",
    "from sml_project3 import mlops\n",
    "from sml_project3 import utils\n",
    "from sml_project3 import model\n",
    "from sml_project3 import painn\n",
    "from sml_project3 import energy\n",
    "from sml_project3 import torsion\n",
    "import mdtraj\n",
    "import nglview"
   ]
  },
  {
   "cell_type": "code",
   "execution_count": null,
   "id": "8333ed0e-2e38-46bd-9680-ce80f53a7c5f",
   "metadata": {},
   "outputs": [],
   "source": [
    "import importlib\n",
    "importlib.reload(painn)\n",
    "importlib.reload(utils)\n",
    "importlib.reload(model)"
   ]
  },
  {
   "cell_type": "code",
   "execution_count": null,
   "id": "6f2a9971-2b86-4da2-b307-1eac6f584b53",
   "metadata": {
    "scrolled": true
   },
   "outputs": [],
   "source": [
    "# MODEL: Basedistribution\n",
    "\n",
    "class BaseDistribution:\n",
    "    def __init__(self, ...):\n",
    "        # TODO: Implement the base distribution for your model. \n",
    "        # HINT: The std of the coordinates is 0.1277\n",
    "        ...\n",
    "    \n",
    "    def sample(self, ...):\n",
    "        # TODO: Implement a sampling function for the basebasedistribtion for your model.\n",
    "        \n",
    "        # HINT: This function must return a tensor of dimension [n_atoms, 3]\n",
    "        ..."
   ]
  },
  {
   "cell_type": "code",
   "execution_count": null,
   "id": "97c318a5-2ab2-4c3b-96a8-e258200c0fe1",
   "metadata": {},
   "outputs": [],
   "source": [
    "# MODEL: BASELINE MODEL\n",
    "\n",
    "class BaselineModel:\n",
    "    def __init__(self, ...):\n",
    "        # TODO: Implement a baseline model for your experiments\n",
    "        ...\n",
    "\n",
    "    def forward(self, batch):\n",
    "        # TODO: Implement the forward pass of the baseline model.\n",
    "        # HINT: This function must return a tensor of dimension [n_atoms, 3]\n",
    "        ...\n"
   ]
  },
  {
   "cell_type": "code",
   "execution_count": null,
   "id": "f822b571-cc55-427c-955a-84e7743b7d7d",
   "metadata": {
    "scrolled": true
   },
   "outputs": [],
   "source": [
    "# MODEL: Equivariant readout \n",
    "\n",
    "class EquivariantReadout(torch.nn.Module):\n",
    "    def __init__(self, ...):\n",
    "        super().__init__()\n",
    "        # TODO: Implement the equivariant readout function for a the painn model \n",
    "        ...\n",
    "\n",
    "    \n",
    "    def forward(self, batch):\n",
    "        # TODO: Implement the readout function for the painn model which embeds all nodes\n",
    "        # with invariant and equivariant features\n",
    "    \n",
    "        # HINT: The input batch will have in and equivariant on it with shapes\n",
    "        # batch.equivariant_features.shape == (n_atoms, n_features, 3)\n",
    "        # batch.invariant_features.shape == (n_atoms, n_features) \n",
    "\n",
    "        # HINT: This function should return a tensor of shape [n_atoms, 3]\n",
    "        ... "
   ]
  },
  {
   "cell_type": "code",
   "execution_count": null,
   "id": "591dea2c-2bde-43be-b61c-e40d6dfdfbdc",
   "metadata": {},
   "outputs": [],
   "source": [
    "# SETUP: set up the training script\n",
    "\n",
    "readout = Readout(...) # Should take the same number of features as your painn model\n",
    "basedistribution = BaseDistribution(...)\n",
    "score = painn.Painn(n_features=8, readout=readout)\n",
    "cfm = model.CFM(score, basedistribution)\n",
    "\n",
    "dataset = data.Pentene1Dataset(\"data\")\n",
    "dataloader = geom.data.DataLoader(dataset, batch_size=100, shuffle=True)\n"
   ]
  },
  {
   "cell_type": "code",
   "execution_count": null,
   "id": "6e0b4280-e6da-4774-95a9-69a592c1679b",
   "metadata": {},
   "outputs": [],
   "source": [
    "# Training\n",
    "\n",
    "# TODO: Train your model\n",
    "# Hint you can resume the training of some model using\n",
    "# cfm = mlops.load(\"results/model/model_latest.pkl\")\n",
    "\n",
    "\n",
    "timer = utils.Timer()\n",
    "step = 0\n",
    "\n",
    "for epoch in range(1000):\n",
    "    for batch in dataloader:\n",
    "        t = torch.rand(len(batch)).type_as(batch.pos)\n",
    "        loss = cfm.get_loss(t, batch)\n",
    "        cfm.training_step(loss)\n",
    "        step += 1\n",
    "        print(\n",
    "            f\"epoch: {epoch}, step: {step}, time passed: {timer}, loss: {loss.item():.4f}\",\n",
    "            end=\"\\r\",\n",
    "        )\n",
    "\n",
    "        if (step + 1) % 10 == 0:\n",
    "            # HINT: In order to sample the model will need an example batch from the dataset.\n",
    "            # The features such as atom numbers, atom_idxs and edge_index are used for the \n",
    "            # model to generate a new sample. To get an example batch with 10 conformations \n",
    "            # run\n",
    "            # example_batch = utils.get_example_batch(dataset, 10) \n",
    "\n",
    "            # Now we can sample from the model\n",
    "            samples = cfm.sample(example_batch)\n",
    "\n",
    "            # HINT mlops.save(object, path) will save the pickled object at path, and likewise\n",
    "            # object = mlops.load(path) will load back the pickled object. Use this if you want\n",
    "            # to save your model and samples during training\n",
    "\n",
    "            mlops.save(cfm, f\"results/model/model_{step}.pkl\")\n",
    "            mlops.save(cfm, f\"results/model/model_latest.pkl\")\n",
    "            mlops.save(samples, f\"results/samples/samples_{step}.pkl\")\n",
    "\n",
    "# HINT using my implementation of the equivariant Readout and a painn model with 8 hidden features \n",
    "# I was able to get a loss of 0.037 in 10.000 steps within 20 minutes running locally on my laptop. "
   ]
  },
  {
   "cell_type": "code",
   "execution_count": null,
   "id": "fcfe1761-f14b-46ac-8cda-b0b638544c20",
   "metadata": {},
   "outputs": [],
   "source": [
    "# SAMPLING:\n",
    "# TODO: Make samples from your model: \n",
    "\n",
    "model = mlops.load(\"results/model/model_latest.pkl\")\n",
    "example_batch = utils.get_example_batch(dataset, 5000)\n",
    "samples = cfm.sample(example_batch)"
   ]
  },
  {
   "cell_type": "code",
   "execution_count": null,
   "id": "898aed34-4370-421d-9709-77735ca426ee",
   "metadata": {
    "scrolled": true
   },
   "outputs": [],
   "source": [
    "# HINT Just for a point of reference, I included 1000 samples from a PaiNN model that I trained\n",
    "# for one hour. \n",
    "mlops.save(samples, 'reference/solution_samples.pkl')\n",
    "utils.nglview_pentene(samples)"
   ]
  },
  {
   "cell_type": "code",
   "execution_count": 13,
   "id": "365fabd6-da3b-4ee2-bec4-7d38af425655",
   "metadata": {},
   "outputs": [],
   "source": [
    "energy_evaluator = energy.EnergyEvaluator()\n",
    "torsion_evaluator = torsion.TorsionEvaluator()"
   ]
  },
  {
   "cell_type": "code",
   "execution_count": 19,
   "id": "cf1085d5-cd5e-45bb-a2ed-741b9f8c69c3",
   "metadata": {},
   "outputs": [],
   "source": [
    "# HINT: the energy evaluator will crash if you feed it a torch.Tensor, the trajectory must\n",
    "# be a numpy array. \n",
    "\n",
    "\n",
    "reference_data = dataset.data[:5000].numpy() \n",
    "solution_data = mlops.load('ref_samples/cfm_9999_steps.pkl')"
   ]
  },
  {
   "cell_type": "code",
   "execution_count": 18,
   "id": "47c7f616-881b-4339-ac42-ee78fd8db230",
   "metadata": {
    "scrolled": true
   },
   "outputs": [
    {
     "data": {
      "image/png": "[encoded data removed]",
      "text/plain": [
       "<Figure size 640x480 with 1 Axes>"
      ]
     },
     "metadata": {},
     "output_type": "display_data"
    },
    {
     "data": {
      "image/png": "[encoded data removed]",
      "text/plain": [
       "<Figure size 640x480 with 1 Axes>"
      ]
     },
     "metadata": {},
     "output_type": "display_data"
    }
   ],
   "source": [
    "import matplotlib.pyplot as plt\n",
    "\n",
    "\n",
    "\n",
    "ref_energies = energy_evaluator.evaluate(reference_data)\n",
    "ref_torsions = torsion_evaluator.evaluate(reference_data)\n",
    "energies = energy_evaluator.evaluate(samples)\n",
    "torsions = torsion_evaluator.evaluate(samples)\n",
    "\n",
    "plt.hist(ref_torsions, bins=50, density=True)\n",
    "plt.hist(torsions, bins=50, density=True)\n",
    "\n",
    "plt.show()\n",
    "\n",
    "plt.hist(ref_energies, bins=50,range=[100,300], density=True)\n",
    "plt.hist(energies, bins=50, density=True, range=[100,300])\n",
    "plt.show()"
   ]
  },
  {
   "cell_type": "code",
   "execution_count": 25,
   "id": "d3256420-5adb-4365-a346-25055c047f24",
   "metadata": {},
   "outputs": [
    {
     "name": "stdout",
     "output_type": "stream",
     "text": [
      "7.16.4\n",
      "zsh:1: command not found: pdflatex\n"
     ]
    }
   ],
   "source": [
    "!jupyter nbconvert --version\n",
    "!pdflatex --version\n"
   ]
  },
  {
   "cell_type": "code",
   "execution_count": 24,
   "id": "c53ad1d4-5a7b-477e-b7a7-f5030c77812c",
   "metadata": {},
   "outputs": [],
   "source": [
    "!eval \"$(/usr/libexec/path_helper)\""
   ]
  },
  {
   "cell_type": "code",
   "execution_count": null,
   "id": "81395e33-d45e-42a7-84e8-324d736e402a",
   "metadata": {},
   "outputs": [],
   "source": []
  }
 ],
 "metadata": {
  "kernelspec": {
   "display_name": "Python 3 (ipykernel)",
   "language": "python",
   "name": "python3"
  },
  "language_info": {
   "codemirror_mode": {
    "name": "ipython",
    "version": 3
   },
   "file_extension": ".py",
   "mimetype": "text/x-python",
   "name": "python",
   "nbconvert_exporter": "python",
   "pygments_lexer": "ipython3",
   "version": "3.10.15"
  }
 },
 "nbformat": 4,
 "nbformat_minor": 5
}
